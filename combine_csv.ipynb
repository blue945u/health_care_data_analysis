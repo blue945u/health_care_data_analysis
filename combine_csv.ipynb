{
 "cells": [
  {
   "cell_type": "code",
   "execution_count": 1,
   "metadata": {
    "collapsed": true
   },
   "outputs": [],
   "source": [
    "import numpy as np\n",
    "import pandas as pd\n",
    "import matplotlib.pyplot as plt\n",
    "import random\n",
    "import math"
   ]
  },
  {
   "cell_type": "code",
   "execution_count": 11,
   "metadata": {
    "collapsed": false
   },
   "outputs": [],
   "source": [
    "df_diet = pd.read_csv('./new_data/1999-2000Diet_DRXTOT-ok.csv')\n",
    "df_msx = pd.read_csv('./new_data/1999-2000MuscleStrength_MSX-ok.csv')\n",
    "df_all = pd.read_csv('./new_data/1999-2000MuscleMassDXA_All Years-ok.csv')\n",
    "df_diabetes = pd.read_csv('./new_data/1999-2000Diabetes-ok.csv')\n",
    "df_demo = pd.read_csv('./new_data/1999-2000Demography_DEMO-ok.csv')\n",
    "df_cdq = pd.read_csv('./new_data/1999-2000Cardiovascular_CDQHealth-ok.csv')\n",
    "df_dep = pd.read_csv('./new_data/1999-2000Depression-ok.csv')\n",
    "df_med = pd.read_csv('./new_data/1999-2000MedicalConditions.csv')\n",
    "df_phy = pd.read_csv('./new_data/1999-2000PhysicalActivity.csv')"
   ]
  },
  {
   "cell_type": "code",
   "execution_count": 12,
   "metadata": {
    "collapsed": false
   },
   "outputs": [],
   "source": [
    "df = pd.concat([df_diet, df_msx, df_all, df_diabetes, df_demo, df_cdq, df_dep, df_med, df_phy], axis=1, join='inner')"
   ]
  },
  {
   "cell_type": "code",
   "execution_count": 14,
   "metadata": {
    "collapsed": false
   },
   "outputs": [],
   "source": [
    "df['Total_BMC'] = df['DXDRLLE'] + df['DXDRALE'] + df['DXDLLLE'] + df['DXDLALE']\n",
    "df['Arm_BMC'] = df['DXDRALE'] + df['DXDLALE']\n",
    "df['Leg_BMC'] = df['DXDRLLE'] + df['DXDLLLE'] "
   ]
  },
  {
   "cell_type": "code",
   "execution_count": 21,
   "metadata": {
    "collapsed": false
   },
   "outputs": [
    {
     "name": "stdout",
     "output_type": "stream",
     "text": [
      "(9282, 16)\n",
      "(2156, 6)\n",
      "(31175, 28)\n",
      "(9493, 4)\n",
      "(9965, 11)\n",
      "(3185, 5)\n",
      "(778, 2)\n",
      "(9493, 167)\n",
      "(9188, 21)\n"
     ]
    }
   ],
   "source": [
    "print(df_diet.shape)\n",
    "print(df_msx.shape)\n",
    "print(df_all.shape)\n",
    "print(df_diabetes.shape)\n",
    "print(df_demo.shape)\n",
    "print(df_cdq.shape)\n",
    "print(df_dep.shape)\n",
    "print(df_med.shape)\n",
    "print(df_phy.shape)"
   ]
  },
  {
   "cell_type": "code",
   "execution_count": 22,
   "metadata": {
    "collapsed": false
   },
   "outputs": [
    {
     "data": {
      "text/plain": [
       "260"
      ]
     },
     "execution_count": 22,
     "metadata": {},
     "output_type": "execute_result"
    }
   ],
   "source": [
    "16 + 6 + 28 + 4 + 11 + 5 + 2 +167+21"
   ]
  },
  {
   "cell_type": "code",
   "execution_count": 23,
   "metadata": {
    "collapsed": false
   },
   "outputs": [
    {
     "name": "stdout",
     "output_type": "stream",
     "text": [
      "(778, 263)\n"
     ]
    }
   ],
   "source": [
    "print(df.shape)\n"
   ]
  },
  {
   "cell_type": "code",
   "execution_count": 25,
   "metadata": {
    "collapsed": true
   },
   "outputs": [],
   "source": [
    "df.to_csv('1999-2000rawdata.csv', index = False)"
   ]
  },
  {
   "cell_type": "code",
   "execution_count": null,
   "metadata": {
    "collapsed": true
   },
   "outputs": [],
   "source": []
  }
 ],
 "metadata": {
  "kernelspec": {
   "display_name": "Python 2",
   "language": "python",
   "name": "python2"
  },
  "language_info": {
   "codemirror_mode": {
    "name": "ipython",
    "version": 2
   },
   "file_extension": ".py",
   "mimetype": "text/x-python",
   "name": "python",
   "nbconvert_exporter": "python",
   "pygments_lexer": "ipython2",
   "version": "2.7.13"
  }
 },
 "nbformat": 4,
 "nbformat_minor": 2
}
